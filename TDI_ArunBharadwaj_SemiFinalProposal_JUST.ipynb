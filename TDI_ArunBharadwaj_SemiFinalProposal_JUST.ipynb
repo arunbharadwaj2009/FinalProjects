{
 "cells": [
  {
   "cell_type": "markdown",
   "metadata": {},
   "source": [
    "# JUST Capital - TDI Semi Final Proposal (Arun Bharadwaj)\n",
    "\n",
    "\n"
   ]
  },
  {
   "cell_type": "markdown",
   "metadata": {},
   "source": [
    "# INTRODUCTION\n",
    "\n",
    "### The proposed capstone project aims to identify the significance of the JUST score. The JUST score is a ranking methodology developed by JUST capital. The score tries to rank companies based on social issues that matter to the larger public. JUST capital`s methodology accounts for the following metrics: the way companies treat their employees, wage discrimination, workplace safety, workforce training, the way the companies suppliers treat their employees, whether the company does business with repressive governments, companies relationship with communities, job creation in the US, product quality, customer satisfiaction, product pricing policy, customer privacy, legal record, corporate governance and environmental impact.  "
   ]
  },
  {
   "cell_type": "markdown",
   "metadata": {},
   "source": [
    "# DATASET\n",
    "\n",
    "\n",
    "### JUST capital have provided data on the above metrics for anonymized companies. Their complete dataset contains 900 companies. For now, they have made public information about the top 50% of these companies. JUST capital have provided information on the stock price returns of 2571 anonymized companies, over 800 anonymized timeperiods. JUST capital have also provided information about the health and census data of the locations where these companies are located. Finally, some company specific information is also available."
   ]
  },
  {
   "cell_type": "markdown",
   "metadata": {},
   "source": [
    "# SUGGESTED QUESTIONS\n",
    "\n",
    "### JUST capital have come up with a list of potential projects and questions. These include: finding the relationship between stock price returns, community health, income inequality and JUST scores. Some recommendations that can be given to companies for improving their JUST scores is also a question. "
   ]
  },
  {
   "cell_type": "markdown",
   "metadata": {},
   "source": [
    "# APPROACHING THE PROJECT\n",
    "\n",
    "### The capstone project is divided into 4 mini-projects, similar to JUST Capital`s suggested questions. In every mini-project, the differences that occur due to the different industries are also taken into account. \n",
    "\n",
    "### All 4 mini-projects have following structure: data extraction, exploratory data analysis, feature engineering (if possible) and machine learning.  \n",
    "\n",
    "## Below are some results from mini-project 1"
   ]
  },
  {
   "cell_type": "markdown",
   "metadata": {},
   "source": [
    "# MINI-PROJECT 1 (JUST SCORE VERSUS STOCK RETURNS)\n",
    "\n",
    "## DATA EXTRACTION\n",
    "\n",
    "### Data to be extracted for this mini-project are the COMPANY_SCORES_TOP_HALF.xlsx, RETURNS_1.xlsx, RETURNS_2.xlsx. \n",
    "\n",
    "## PROBLEMS WITH DATA\n",
    "\n",
    "### Biggest problem with RETURNS_1 and RETURNS_2.xlsx is the fact that time periods are anonymized. Standalone stock returns do not convey useful information since they do not tell us anything about the benchmark returns. Since time periods are anonymized, we cannot compare individual stock returns with benchmark returns. Instead, we will have to find the mean or median of all companies during the timeperiod and assume that this metric approximates benchmark return. "
   ]
  },
  {
   "cell_type": "markdown",
   "metadata": {},
   "source": [
    "# INTERACTIVE BOKEH VISUALIZATION\n",
    "\n",
    "### An interactive bokeh scatter plot of all relevant features in COMPANY_SCORES_TOP_HALF.xlsx data was constructed. You can interact with it by scrolling down."
   ]
  },
  {
   "cell_type": "markdown",
   "metadata": {},
   "source": [
    "# EXPLORATORY DATA ANALYSIS \n",
    "\n",
    "### Three types of exploratory data analysis were conducted: histograms of all features in the COMPANY_SCORES_TOP_HALF.xlsx data were constructed, the correlation between some of the features and INVEST.RETURN (5-year total shareholder return) was developed and the number of companies ranked in top 100 as per JUST score was split based on industry type. \n",
    "\n",
    "### The histograms show that multiple columns like LEAD.TRUTH, CUST.DISC, SUPPLY.REPRESS and TREAT.LAYOFF have only a single class of observations. So, these features are removed from the analysis.\n",
    "\n",
    "### The correlation exercise was done using the new dataset, which did not include the above columns. Also, the id, JUST_IND, JUST_100 columns were removed before the correlation exercise. The correlation exercise showed weak correlation between INVEST.RETURN and all other features in the dataset.\n",
    "\n",
    "### The histogram shows that the number of companies in the top 100 of JUST score based on industry type are nearly equal across all industries. "
   ]
  },
  {
   "cell_type": "markdown",
   "metadata": {
    "collapsed": true
   },
   "source": [
    "# MACHINE LEARNING \n",
    "\n",
    "### For the machine learning part of the mini project, the relationship between the probability of a company outperforming the market (alpha) and its JUST component scores was studied. The initial results show low degree of association between alpha and the JUST component scores. The logistic regression output shows that PAY.CEO, COMM.CHARITY, CUST.PRIV and ENV.EFFICIENT to be the significant dependant variables. Model accuracy improves when random forest algorithm is used. It improves even further when a gradient boosting classifier is used."
   ]
  },
  {
   "cell_type": "markdown",
   "metadata": {},
   "source": [
    "# MINI-PROJECT 2,3 and 4 will be completed if I get selected in the TDI cohort."
   ]
  },
  {
   "cell_type": "code",
   "execution_count": 31,
   "metadata": {},
   "outputs": [
    {
     "data": {
      "text/html": [
       "\n",
       "    <div class=\"bk-root\">\n",
       "        <a href=\"https://bokeh.pydata.org\" target=\"_blank\" class=\"bk-logo bk-logo-small bk-logo-notebook\"></a>\n",
       "        <span id=\"2f0fe29e-9e26-450d-a890-256e1840f423\">Loading BokehJS ...</span>\n",
       "    </div>"
      ]
     },
     "metadata": {},
     "output_type": "display_data"
    },
    {
     "data": {
      "application/javascript": [
       "\n",
       "(function(root) {\n",
       "  function now() {\n",
       "    return new Date();\n",
       "  }\n",
       "\n",
       "  var force = true;\n",
       "\n",
       "  if (typeof (root._bokeh_onload_callbacks) === \"undefined\" || force === true) {\n",
       "    root._bokeh_onload_callbacks = [];\n",
       "    root._bokeh_is_loading = undefined;\n",
       "  }\n",
       "\n",
       "  var JS_MIME_TYPE = 'application/javascript';\n",
       "  var HTML_MIME_TYPE = 'text/html';\n",
       "  var EXEC_MIME_TYPE = 'application/vnd.bokehjs_exec.v0+json';\n",
       "  var CLASS_NAME = 'output_bokeh rendered_html';\n",
       "\n",
       "  /**\n",
       "   * Render data to the DOM node\n",
       "   */\n",
       "  function render(props, node) {\n",
       "    var script = document.createElement(\"script\");\n",
       "    node.appendChild(script);\n",
       "  }\n",
       "\n",
       "  /**\n",
       "   * Handle when an output is cleared or removed\n",
       "   */\n",
       "  function handleClearOutput(event, handle) {\n",
       "    var cell = handle.cell;\n",
       "\n",
       "    var id = cell.output_area._bokeh_element_id;\n",
       "    var server_id = cell.output_area._bokeh_server_id;\n",
       "    // Clean up Bokeh references\n",
       "    if (id !== undefined) {\n",
       "      Bokeh.index[id].model.document.clear();\n",
       "      delete Bokeh.index[id];\n",
       "    }\n",
       "\n",
       "    if (server_id !== undefined) {\n",
       "      // Clean up Bokeh references\n",
       "      var cmd = \"from bokeh.io.state import curstate; print(curstate().uuid_to_server['\" + server_id + \"'].get_sessions()[0].document.roots[0]._id)\";\n",
       "      cell.notebook.kernel.execute(cmd, {\n",
       "        iopub: {\n",
       "          output: function(msg) {\n",
       "            var element_id = msg.content.text.trim();\n",
       "            Bokeh.index[element_id].model.document.clear();\n",
       "            delete Bokeh.index[element_id];\n",
       "          }\n",
       "        }\n",
       "      });\n",
       "      // Destroy server and session\n",
       "      var cmd = \"import bokeh.io.notebook as ion; ion.destroy_server('\" + server_id + \"')\";\n",
       "      cell.notebook.kernel.execute(cmd);\n",
       "    }\n",
       "  }\n",
       "\n",
       "  /**\n",
       "   * Handle when a new output is added\n",
       "   */\n",
       "  function handleAddOutput(event, handle) {\n",
       "    var output_area = handle.output_area;\n",
       "    var output = handle.output;\n",
       "\n",
       "    // limit handleAddOutput to display_data with EXEC_MIME_TYPE content only\n",
       "    if ((output.output_type != \"display_data\") || (!output.data.hasOwnProperty(EXEC_MIME_TYPE))) {\n",
       "      return\n",
       "    }\n",
       "\n",
       "    var toinsert = output_area.element.find(`.${CLASS_NAME.split(' ')[0]}`);\n",
       "\n",
       "    if (output.metadata[EXEC_MIME_TYPE][\"id\"] !== undefined) {\n",
       "      toinsert[0].firstChild.textContent = output.data[JS_MIME_TYPE];\n",
       "      // store reference to embed id on output_area\n",
       "      output_area._bokeh_element_id = output.metadata[EXEC_MIME_TYPE][\"id\"];\n",
       "    }\n",
       "    if (output.metadata[EXEC_MIME_TYPE][\"server_id\"] !== undefined) {\n",
       "      var bk_div = document.createElement(\"div\");\n",
       "      bk_div.innerHTML = output.data[HTML_MIME_TYPE];\n",
       "      var script_attrs = bk_div.children[0].attributes;\n",
       "      for (var i = 0; i < script_attrs.length; i++) {\n",
       "        toinsert[0].firstChild.setAttribute(script_attrs[i].name, script_attrs[i].value);\n",
       "      }\n",
       "      // store reference to server id on output_area\n",
       "      output_area._bokeh_server_id = output.metadata[EXEC_MIME_TYPE][\"server_id\"];\n",
       "    }\n",
       "  }\n",
       "\n",
       "  function register_renderer(events, OutputArea) {\n",
       "\n",
       "    function append_mime(data, metadata, element) {\n",
       "      // create a DOM node to render to\n",
       "      var toinsert = this.create_output_subarea(\n",
       "        metadata,\n",
       "        CLASS_NAME,\n",
       "        EXEC_MIME_TYPE\n",
       "      );\n",
       "      this.keyboard_manager.register_events(toinsert);\n",
       "      // Render to node\n",
       "      var props = {data: data, metadata: metadata[EXEC_MIME_TYPE]};\n",
       "      render(props, toinsert[0]);\n",
       "      element.append(toinsert);\n",
       "      return toinsert\n",
       "    }\n",
       "\n",
       "    /* Handle when an output is cleared or removed */\n",
       "    events.on('clear_output.CodeCell', handleClearOutput);\n",
       "    events.on('delete.Cell', handleClearOutput);\n",
       "\n",
       "    /* Handle when a new output is added */\n",
       "    events.on('output_added.OutputArea', handleAddOutput);\n",
       "\n",
       "    /**\n",
       "     * Register the mime type and append_mime function with output_area\n",
       "     */\n",
       "    OutputArea.prototype.register_mime_type(EXEC_MIME_TYPE, append_mime, {\n",
       "      /* Is output safe? */\n",
       "      safe: true,\n",
       "      /* Index of renderer in `output_area.display_order` */\n",
       "      index: 0\n",
       "    });\n",
       "  }\n",
       "\n",
       "  // register the mime type if in Jupyter Notebook environment and previously unregistered\n",
       "  if (root.Jupyter !== undefined) {\n",
       "    var events = require('base/js/events');\n",
       "    var OutputArea = require('notebook/js/outputarea').OutputArea;\n",
       "\n",
       "    if (OutputArea.prototype.mime_types().indexOf(EXEC_MIME_TYPE) == -1) {\n",
       "      register_renderer(events, OutputArea);\n",
       "    }\n",
       "  }\n",
       "\n",
       "  \n",
       "  if (typeof (root._bokeh_timeout) === \"undefined\" || force === true) {\n",
       "    root._bokeh_timeout = Date.now() + 5000;\n",
       "    root._bokeh_failed_load = false;\n",
       "  }\n",
       "\n",
       "  var NB_LOAD_WARNING = {'data': {'text/html':\n",
       "     \"<div style='background-color: #fdd'>\\n\"+\n",
       "     \"<p>\\n\"+\n",
       "     \"BokehJS does not appear to have successfully loaded. If loading BokehJS from CDN, this \\n\"+\n",
       "     \"may be due to a slow or bad network connection. Possible fixes:\\n\"+\n",
       "     \"</p>\\n\"+\n",
       "     \"<ul>\\n\"+\n",
       "     \"<li>re-rerun `output_notebook()` to attempt to load from CDN again, or</li>\\n\"+\n",
       "     \"<li>use INLINE resources instead, as so:</li>\\n\"+\n",
       "     \"</ul>\\n\"+\n",
       "     \"<code>\\n\"+\n",
       "     \"from bokeh.resources import INLINE\\n\"+\n",
       "     \"output_notebook(resources=INLINE)\\n\"+\n",
       "     \"</code>\\n\"+\n",
       "     \"</div>\"}};\n",
       "\n",
       "  function display_loaded() {\n",
       "    var el = document.getElementById(\"2f0fe29e-9e26-450d-a890-256e1840f423\");\n",
       "    if (el != null) {\n",
       "      el.textContent = \"BokehJS is loading...\";\n",
       "    }\n",
       "    if (root.Bokeh !== undefined) {\n",
       "      if (el != null) {\n",
       "        el.textContent = \"BokehJS \" + root.Bokeh.version + \" successfully loaded.\";\n",
       "      }\n",
       "    } else if (Date.now() < root._bokeh_timeout) {\n",
       "      setTimeout(display_loaded, 100)\n",
       "    }\n",
       "  }\n",
       "\n",
       "\n",
       "  function run_callbacks() {\n",
       "    try {\n",
       "      root._bokeh_onload_callbacks.forEach(function(callback) { callback() });\n",
       "    }\n",
       "    finally {\n",
       "      delete root._bokeh_onload_callbacks\n",
       "    }\n",
       "    console.info(\"Bokeh: all callbacks have finished\");\n",
       "  }\n",
       "\n",
       "  function load_libs(js_urls, callback) {\n",
       "    root._bokeh_onload_callbacks.push(callback);\n",
       "    if (root._bokeh_is_loading > 0) {\n",
       "      console.log(\"Bokeh: BokehJS is being loaded, scheduling callback at\", now());\n",
       "      return null;\n",
       "    }\n",
       "    if (js_urls == null || js_urls.length === 0) {\n",
       "      run_callbacks();\n",
       "      return null;\n",
       "    }\n",
       "    console.log(\"Bokeh: BokehJS not loaded, scheduling load and callback at\", now());\n",
       "    root._bokeh_is_loading = js_urls.length;\n",
       "    for (var i = 0; i < js_urls.length; i++) {\n",
       "      var url = js_urls[i];\n",
       "      var s = document.createElement('script');\n",
       "      s.src = url;\n",
       "      s.async = false;\n",
       "      s.onreadystatechange = s.onload = function() {\n",
       "        root._bokeh_is_loading--;\n",
       "        if (root._bokeh_is_loading === 0) {\n",
       "          console.log(\"Bokeh: all BokehJS libraries loaded\");\n",
       "          run_callbacks()\n",
       "        }\n",
       "      };\n",
       "      s.onerror = function() {\n",
       "        console.warn(\"failed to load library \" + url);\n",
       "      };\n",
       "      console.log(\"Bokeh: injecting script tag for BokehJS library: \", url);\n",
       "      document.getElementsByTagName(\"head\")[0].appendChild(s);\n",
       "    }\n",
       "  };var element = document.getElementById(\"2f0fe29e-9e26-450d-a890-256e1840f423\");\n",
       "  if (element == null) {\n",
       "    console.log(\"Bokeh: ERROR: autoload.js configured with elementid '2f0fe29e-9e26-450d-a890-256e1840f423' but no matching script tag was found. \")\n",
       "    return false;\n",
       "  }\n",
       "\n",
       "  var js_urls = [\"https://cdn.pydata.org/bokeh/release/bokeh-0.12.10.min.js\", \"https://cdn.pydata.org/bokeh/release/bokeh-widgets-0.12.10.min.js\", \"https://cdn.pydata.org/bokeh/release/bokeh-tables-0.12.10.min.js\", \"https://cdn.pydata.org/bokeh/release/bokeh-gl-0.12.10.min.js\"];\n",
       "\n",
       "  var inline_js = [\n",
       "    function(Bokeh) {\n",
       "      Bokeh.set_log_level(\"info\");\n",
       "    },\n",
       "    \n",
       "    function(Bokeh) {\n",
       "      \n",
       "    },\n",
       "    function(Bokeh) {\n",
       "      console.log(\"Bokeh: injecting CSS: https://cdn.pydata.org/bokeh/release/bokeh-0.12.10.min.css\");\n",
       "      Bokeh.embed.inject_css(\"https://cdn.pydata.org/bokeh/release/bokeh-0.12.10.min.css\");\n",
       "      console.log(\"Bokeh: injecting CSS: https://cdn.pydata.org/bokeh/release/bokeh-widgets-0.12.10.min.css\");\n",
       "      Bokeh.embed.inject_css(\"https://cdn.pydata.org/bokeh/release/bokeh-widgets-0.12.10.min.css\");\n",
       "      console.log(\"Bokeh: injecting CSS: https://cdn.pydata.org/bokeh/release/bokeh-tables-0.12.10.min.css\");\n",
       "      Bokeh.embed.inject_css(\"https://cdn.pydata.org/bokeh/release/bokeh-tables-0.12.10.min.css\");\n",
       "    }\n",
       "  ];\n",
       "\n",
       "  function run_inline_js() {\n",
       "    \n",
       "    if ((root.Bokeh !== undefined) || (force === true)) {\n",
       "      for (var i = 0; i < inline_js.length; i++) {\n",
       "        inline_js[i].call(root, root.Bokeh);\n",
       "      }if (force === true) {\n",
       "        display_loaded();\n",
       "      }} else if (Date.now() < root._bokeh_timeout) {\n",
       "      setTimeout(run_inline_js, 100);\n",
       "    } else if (!root._bokeh_failed_load) {\n",
       "      console.log(\"Bokeh: BokehJS failed to load within specified timeout.\");\n",
       "      root._bokeh_failed_load = true;\n",
       "    } else if (force !== true) {\n",
       "      var cell = $(document.getElementById(\"2f0fe29e-9e26-450d-a890-256e1840f423\")).parents('.cell').data().cell;\n",
       "      cell.output_area.append_execute_result(NB_LOAD_WARNING)\n",
       "    }\n",
       "\n",
       "  }\n",
       "\n",
       "  if (root._bokeh_is_loading === 0) {\n",
       "    console.log(\"Bokeh: BokehJS loaded, going straight to plotting\");\n",
       "    run_inline_js();\n",
       "  } else {\n",
       "    load_libs(js_urls, function() {\n",
       "      console.log(\"Bokeh: BokehJS plotting callback run at\", now());\n",
       "      run_inline_js();\n",
       "    });\n",
       "  }\n",
       "}(window));"
      ],
      "application/vnd.bokehjs_load.v0+json": "\n(function(root) {\n  function now() {\n    return new Date();\n  }\n\n  var force = true;\n\n  if (typeof (root._bokeh_onload_callbacks) === \"undefined\" || force === true) {\n    root._bokeh_onload_callbacks = [];\n    root._bokeh_is_loading = undefined;\n  }\n\n  \n\n  \n  if (typeof (root._bokeh_timeout) === \"undefined\" || force === true) {\n    root._bokeh_timeout = Date.now() + 5000;\n    root._bokeh_failed_load = false;\n  }\n\n  var NB_LOAD_WARNING = {'data': {'text/html':\n     \"<div style='background-color: #fdd'>\\n\"+\n     \"<p>\\n\"+\n     \"BokehJS does not appear to have successfully loaded. If loading BokehJS from CDN, this \\n\"+\n     \"may be due to a slow or bad network connection. Possible fixes:\\n\"+\n     \"</p>\\n\"+\n     \"<ul>\\n\"+\n     \"<li>re-rerun `output_notebook()` to attempt to load from CDN again, or</li>\\n\"+\n     \"<li>use INLINE resources instead, as so:</li>\\n\"+\n     \"</ul>\\n\"+\n     \"<code>\\n\"+\n     \"from bokeh.resources import INLINE\\n\"+\n     \"output_notebook(resources=INLINE)\\n\"+\n     \"</code>\\n\"+\n     \"</div>\"}};\n\n  function display_loaded() {\n    var el = document.getElementById(\"2f0fe29e-9e26-450d-a890-256e1840f423\");\n    if (el != null) {\n      el.textContent = \"BokehJS is loading...\";\n    }\n    if (root.Bokeh !== undefined) {\n      if (el != null) {\n        el.textContent = \"BokehJS \" + root.Bokeh.version + \" successfully loaded.\";\n      }\n    } else if (Date.now() < root._bokeh_timeout) {\n      setTimeout(display_loaded, 100)\n    }\n  }\n\n\n  function run_callbacks() {\n    try {\n      root._bokeh_onload_callbacks.forEach(function(callback) { callback() });\n    }\n    finally {\n      delete root._bokeh_onload_callbacks\n    }\n    console.info(\"Bokeh: all callbacks have finished\");\n  }\n\n  function load_libs(js_urls, callback) {\n    root._bokeh_onload_callbacks.push(callback);\n    if (root._bokeh_is_loading > 0) {\n      console.log(\"Bokeh: BokehJS is being loaded, scheduling callback at\", now());\n      return null;\n    }\n    if (js_urls == null || js_urls.length === 0) {\n      run_callbacks();\n      return null;\n    }\n    console.log(\"Bokeh: BokehJS not loaded, scheduling load and callback at\", now());\n    root._bokeh_is_loading = js_urls.length;\n    for (var i = 0; i < js_urls.length; i++) {\n      var url = js_urls[i];\n      var s = document.createElement('script');\n      s.src = url;\n      s.async = false;\n      s.onreadystatechange = s.onload = function() {\n        root._bokeh_is_loading--;\n        if (root._bokeh_is_loading === 0) {\n          console.log(\"Bokeh: all BokehJS libraries loaded\");\n          run_callbacks()\n        }\n      };\n      s.onerror = function() {\n        console.warn(\"failed to load library \" + url);\n      };\n      console.log(\"Bokeh: injecting script tag for BokehJS library: \", url);\n      document.getElementsByTagName(\"head\")[0].appendChild(s);\n    }\n  };var element = document.getElementById(\"2f0fe29e-9e26-450d-a890-256e1840f423\");\n  if (element == null) {\n    console.log(\"Bokeh: ERROR: autoload.js configured with elementid '2f0fe29e-9e26-450d-a890-256e1840f423' but no matching script tag was found. \")\n    return false;\n  }\n\n  var js_urls = [\"https://cdn.pydata.org/bokeh/release/bokeh-0.12.10.min.js\", \"https://cdn.pydata.org/bokeh/release/bokeh-widgets-0.12.10.min.js\", \"https://cdn.pydata.org/bokeh/release/bokeh-tables-0.12.10.min.js\", \"https://cdn.pydata.org/bokeh/release/bokeh-gl-0.12.10.min.js\"];\n\n  var inline_js = [\n    function(Bokeh) {\n      Bokeh.set_log_level(\"info\");\n    },\n    \n    function(Bokeh) {\n      \n    },\n    function(Bokeh) {\n      console.log(\"Bokeh: injecting CSS: https://cdn.pydata.org/bokeh/release/bokeh-0.12.10.min.css\");\n      Bokeh.embed.inject_css(\"https://cdn.pydata.org/bokeh/release/bokeh-0.12.10.min.css\");\n      console.log(\"Bokeh: injecting CSS: https://cdn.pydata.org/bokeh/release/bokeh-widgets-0.12.10.min.css\");\n      Bokeh.embed.inject_css(\"https://cdn.pydata.org/bokeh/release/bokeh-widgets-0.12.10.min.css\");\n      console.log(\"Bokeh: injecting CSS: https://cdn.pydata.org/bokeh/release/bokeh-tables-0.12.10.min.css\");\n      Bokeh.embed.inject_css(\"https://cdn.pydata.org/bokeh/release/bokeh-tables-0.12.10.min.css\");\n    }\n  ];\n\n  function run_inline_js() {\n    \n    if ((root.Bokeh !== undefined) || (force === true)) {\n      for (var i = 0; i < inline_js.length; i++) {\n        inline_js[i].call(root, root.Bokeh);\n      }if (force === true) {\n        display_loaded();\n      }} else if (Date.now() < root._bokeh_timeout) {\n      setTimeout(run_inline_js, 100);\n    } else if (!root._bokeh_failed_load) {\n      console.log(\"Bokeh: BokehJS failed to load within specified timeout.\");\n      root._bokeh_failed_load = true;\n    } else if (force !== true) {\n      var cell = $(document.getElementById(\"2f0fe29e-9e26-450d-a890-256e1840f423\")).parents('.cell').data().cell;\n      cell.output_area.append_execute_result(NB_LOAD_WARNING)\n    }\n\n  }\n\n  if (root._bokeh_is_loading === 0) {\n    console.log(\"Bokeh: BokehJS loaded, going straight to plotting\");\n    run_inline_js();\n  } else {\n    load_libs(js_urls, function() {\n      console.log(\"Bokeh: BokehJS plotting callback run at\", now());\n      run_inline_js();\n    });\n  }\n}(window));"
     },
     "metadata": {},
     "output_type": "display_data"
    }
   ],
   "source": [
    "import pandas as pd\n",
    "from bokeh.layouts import row, widgetbox\n",
    "from bokeh.models import Select\n",
    "from bokeh.plotting import curdoc, figure\n",
    "from bokeh.io import output_notebook,push_notebook,show\n",
    "from bokeh.application.handlers import FunctionHandler\n",
    "from bokeh.application import Application\n",
    "\n",
    "output_notebook()"
   ]
  },
  {
   "cell_type": "code",
   "execution_count": 32,
   "metadata": {
    "collapsed": true
   },
   "outputs": [],
   "source": [
    "df = pd.read_excel('COMPANY_SCORES_TOP_HALF.xlsx')\n",
    "\n",
    "del df['id']\n",
    "del df['JUST_IND']\n",
    "del df['JUST_100']\n",
    "\n",
    "def modify_doc(doc):\n",
    "    def create_figure():\n",
    "     xs = df[x.value].values\n",
    "     ys = df[y.value].values\n",
    "     x_title = x.value.title()\n",
    "     y_title = y.value.title()\n",
    "\n",
    "     p = figure(plot_height=600, plot_width=800, tools='pan,box_zoom,reset')\n",
    "     p.xaxis.axis_label = x_title\n",
    "     p.yaxis.axis_label = y_title\n",
    "     p.circle(x=xs, y=ys, line_color=\"white\", alpha=1, hover_color='white', hover_alpha=0.5)\n",
    "    \n",
    "     return p\n",
    "    \n",
    "    def update(attr, old, new):\n",
    "     layout.children[1] = create_figure()\n",
    "\n",
    "    columns=['WGT_SCORE', 'PAY', 'TREAT', 'SUPPLY', 'COMM', 'JOBS', 'PROD',\n",
    "         'CUST', 'LEAD', 'ENV', 'INVEST', 'PAY.LIVING', 'PAY.PTO',\n",
    "         'PAY.HEALTH', 'PAY.FAIR', 'PAY.RETIRE', 'PAY.DISC', 'PAY.CEO',\n",
    "         'TREAT.SAFE', 'TREAT.WLB', 'TREAT.EDU', 'TREAT.DISC',\n",
    "         'TREAT.LAYOFF', 'TREAT.RESPECT', 'SUPPLY.ABUSE', 'SUPPLY.CONFLICT',\n",
    "         'SUPPLY.REPRESS', 'COMM.RELS', 'COMM.CHARITY', 'JOBS.US',\n",
    "         'PROD.BEN', 'PROD.QUAL', 'CUST.FAIR', 'CUST.RELS', 'CUST.DISC',\n",
    "         'CUST.PRIV', 'LEAD.LAWS','LEAD.INTEGRITY', 'LEAD.TRUTH',\n",
    "         'LEAD.TAX', 'LEAD.POLITICS', 'ENV.POLLUTION', 'ENV.MGMT',\n",
    "         'ENV.EFFICIENT', 'INVEST.ACCURATE', 'INVEST.PROFIT',\n",
    "         'INVEST.RETURN']\n",
    "\n",
    "    x = Select(title='X-Axis', value='WGT_SCORE', options=columns)\n",
    "    x.on_change('value', update)\n",
    "\n",
    "    y = Select(title='Y-Axis', value='PAY', options=columns)\n",
    "    y.on_change('value', update)\n",
    "\n",
    "    p = create_figure()\n",
    "    \n",
    "    controls = widgetbox([x, y], width=200)\n",
    "    layout = row(controls, create_figure())\n",
    "\n",
    "    doc.add_root(layout)\n",
    "    doc.title = \"CompanyScores\"\n",
    "\n",
    "handler = FunctionHandler(modify_doc)\n",
    "app = Application(handler)\n",
    "\n"
   ]
  },
  {
   "cell_type": "code",
   "execution_count": 33,
   "metadata": {
    "collapsed": true
   },
   "outputs": [],
   "source": [
    "doc = app.create_document()"
   ]
  },
  {
   "cell_type": "code",
   "execution_count": 34,
   "metadata": {},
   "outputs": [
    {
     "data": {
      "application/vnd.bokehjs_exec.v0+json": "",
      "text/html": [
       "\n",
       "<script\n",
       "    src=\"http://localhost:55207/autoload.js?bokeh-autoload-element=40fcac60-b97a-48b3-9207-a4ed410afea6&bokeh-absolute-url=http://localhost:55207\"\n",
       "    id=\"40fcac60-b97a-48b3-9207-a4ed410afea6\"\n",
       "    data-bokeh-model-id=\"\"\n",
       "    data-bokeh-doc-id=\"\"\n",
       "></script>"
      ]
     },
     "metadata": {
      "application/vnd.bokehjs_exec.v0+json": {
       "server_id": "28786f2a75954cda84dcea8ed8c67e79"
      }
     },
     "output_type": "display_data"
    }
   ],
   "source": [
    "show(app, notebook_url=\"localhost:8888\")"
   ]
  },
  {
   "cell_type": "code",
   "execution_count": 35,
   "metadata": {
    "collapsed": true
   },
   "outputs": [],
   "source": [
    "\n",
    "import numpy as np\n",
    "import matplotlib.pyplot as plt\n",
    "import datetime\n",
    "import pandas as pd\n",
    "import scipy.stats\n",
    "import sklearn"
   ]
  },
  {
   "cell_type": "code",
   "execution_count": 36,
   "metadata": {
    "collapsed": true
   },
   "outputs": [],
   "source": [
    "company_scores=pd.read_excel('COMPANY_SCORES_TOP_HALF.xlsx')"
   ]
  },
  {
   "cell_type": "code",
   "execution_count": 37,
   "metadata": {
    "collapsed": true
   },
   "outputs": [],
   "source": [
    "#print(company_scores.info())"
   ]
  },
  {
   "cell_type": "code",
   "execution_count": 38,
   "metadata": {
    "collapsed": true,
    "scrolled": true
   },
   "outputs": [],
   "source": [
    "#for i in company_scores.columns:\n",
    " #   company_scores[i].hist()\n",
    " #   plt.title(i)\n",
    " #   plt.xlabel('JUST metric')\n",
    " #   plt.ylabel('Frequency of Occurence')\n",
    " #   plt.show()"
   ]
  },
  {
   "cell_type": "code",
   "execution_count": 39,
   "metadata": {
    "collapsed": true
   },
   "outputs": [],
   "source": [
    "company_scores1=company_scores.copy()\n",
    "\n",
    "del company_scores1['LEAD.TRUTH']\n",
    "del company_scores1['CUST.DISC']\n",
    "del company_scores1['CUST.FAIR']\n",
    "del company_scores1['SUPPLY.REPRESS']\n",
    "del company_scores1['TREAT.LAYOFF']"
   ]
  },
  {
   "cell_type": "code",
   "execution_count": 40,
   "metadata": {
    "collapsed": true
   },
   "outputs": [],
   "source": [
    "company_scores_corr = company_scores1.copy()\n",
    "\n",
    "del company_scores_corr['id']\n",
    "del company_scores_corr['JUST_IND']\n",
    "del company_scores_corr['JUST_100']\n"
   ]
  },
  {
   "cell_type": "code",
   "execution_count": 41,
   "metadata": {
    "collapsed": true
   },
   "outputs": [],
   "source": [
    "company_scores_corr_y=company_scores_corr['INVEST.RETURN']\n",
    "company_scores_corr_x=company_scores_corr.copy()\n",
    "\n",
    "del company_scores_corr_x['INVEST.RETURN']"
   ]
  },
  {
   "cell_type": "code",
   "execution_count": 42,
   "metadata": {
    "collapsed": true
   },
   "outputs": [],
   "source": [
    "corr_values=[]\n",
    "for i in company_scores_corr_x.columns:\n",
    "    value=scipy.stats.pearsonr(company_scores_corr_x[i],company_scores_corr_y)\n",
    "    corr_values.append(value[0])\n",
    "    \n",
    "#print(corr_values)"
   ]
  },
  {
   "cell_type": "code",
   "execution_count": 43,
   "metadata": {},
   "outputs": [
    {
     "data": {
      "text/plain": [
       "<matplotlib.figure.Figure at 0xfb09588>"
      ]
     },
     "metadata": {},
     "output_type": "display_data"
    },
    {
     "data": {
      "image/png": "[encoded data removed]",
      "text/plain": [
       "<matplotlib.figure.Figure at 0xfbf1c18>"
      ]
     },
     "metadata": {},
     "output_type": "display_data"
    }
   ],
   "source": [
    "company_scores2=company_scores1.copy()\n",
    "\n",
    "count_ind_100 = company_scores2.groupby(['JUST_IND','JUST_100']).size()\n",
    "\n",
    "#print(count_ind_100)\n",
    "\n",
    "plt.figure(figsize=(15,15))\n",
    "\n",
    "count_ind_100.unstack().plot(kind='bar')\n",
    "\n",
    "plt.title('Industry type and number of companies that made/not make to top 100 of JUST score')\n",
    "\n",
    "plt.xlabel('Industry Type')\n",
    "\n",
    "plt.show();"
   ]
  },
  {
   "cell_type": "code",
   "execution_count": 44,
   "metadata": {
    "collapsed": true
   },
   "outputs": [],
   "source": [
    "company_scores_alphaML=company_scores2.copy()\n",
    "\n",
    "del company_scores_alphaML['id']\n",
    "del company_scores_alphaML['JUST_100']\n",
    "del company_scores_alphaML['INVEST.PROFIT']\n",
    "del company_scores_alphaML['WGT_SCORE']\n",
    "del company_scores_alphaML['PAY']\n",
    "del company_scores_alphaML['TREAT']\n",
    "del company_scores_alphaML['SUPPLY']\n",
    "del company_scores_alphaML['COMM']\n",
    "del company_scores_alphaML['JOBS']\n",
    "del company_scores_alphaML['PROD']\n",
    "del company_scores_alphaML['CUST']\n",
    "del company_scores_alphaML['LEAD']\n",
    "del company_scores_alphaML['ENV']\n",
    "del company_scores_alphaML['INVEST']\n",
    "\n",
    "benchmarkreturn=np.median(company_scores_alphaML['INVEST.RETURN'])"
   ]
  },
  {
   "cell_type": "code",
   "execution_count": 45,
   "metadata": {
    "collapsed": true
   },
   "outputs": [],
   "source": [
    "def alpha_return(company_scores_alphaML):\n",
    "    if company_scores_alphaML['INVEST.RETURN']>=benchmarkreturn:\n",
    "        value='1'\n",
    "    else:\n",
    "        value='0'\n",
    "    \n",
    "    return value\n",
    "\n",
    "company_scores_alphaML['Alpha'] = company_scores_alphaML.apply(alpha_return,axis=1)\n"
   ]
  },
  {
   "cell_type": "code",
   "execution_count": 46,
   "metadata": {
    "collapsed": true
   },
   "outputs": [],
   "source": [
    "company_scores_alphaML1=company_scores_alphaML.copy()\n",
    "\n",
    "del company_scores_alphaML1['INVEST.RETURN']"
   ]
  },
  {
   "cell_type": "code",
   "execution_count": 47,
   "metadata": {
    "collapsed": true
   },
   "outputs": [],
   "source": [
    "company_scores_alphaML2=company_scores_alphaML1.copy()\n",
    "\n",
    "X=company_scores_alphaML2.iloc[:,0:30]\n",
    "y=np.array(company_scores_alphaML2['Alpha'])\n"
   ]
  },
  {
   "cell_type": "code",
   "execution_count": 48,
   "metadata": {},
   "outputs": [
    {
     "name": "stderr",
     "output_type": "stream",
     "text": [
      "C:\\Users\\Arun\\Anaconda2\\lib\\site-packages\\sklearn\\cross_validation.py:41: DeprecationWarning: This module was deprecated in version 0.18 in favor of the model_selection module into which all the refactored classes and functions are moved. Also note that the interface of the new CV iterators are different from that of this module. This module will be removed in 0.20.\n",
      "  \"This module will be removed in 0.20.\", DeprecationWarning)\n"
     ]
    }
   ],
   "source": [
    "from sklearn.model_selection import train_test_split\n",
    "from sklearn.cross_validation import StratifiedKFold\n",
    "from sklearn.model_selection import StratifiedKFold\n",
    "\n",
    "kf=StratifiedKFold(n_splits=2)\n",
    "kf.get_n_splits(X,y)\n",
    "\n",
    "for train_index, test_index in kf.split(X,y):\n",
    "    X_train, X_test = X.iloc[train_index], X.iloc[test_index]\n",
    "    y_train, y_test = y[train_index], y[test_index]\n"
   ]
  },
  {
   "cell_type": "code",
   "execution_count": 49,
   "metadata": {
    "collapsed": true
   },
   "outputs": [],
   "source": [
    "from sklearn.linear_model import LogisticRegression\n",
    "from sklearn.metrics import roc_auc_score,auc\n",
    "from sklearn.feature_selection import RFE\n",
    "\n",
    "clf_logit=LogisticRegression()\n",
    "\n",
    "rfe = RFE(clf_logit, 30)\n",
    "rfe=rfe.fit(X_train,y_train)\n",
    "\n"
   ]
  },
  {
   "cell_type": "code",
   "execution_count": 50,
   "metadata": {
    "collapsed": true
   },
   "outputs": [],
   "source": [
    "from sklearn.metrics import confusion_matrix\n",
    "\n",
    "tn, fp, fn, tp = confusion_matrix(y_test,rfe.predict(X_test)).ravel()\n"
   ]
  },
  {
   "cell_type": "code",
   "execution_count": 51,
   "metadata": {},
   "outputs": [
    {
     "name": "stdout",
     "output_type": "stream",
     "text": [
      "(35, 75, 33, 77)\n"
     ]
    }
   ],
   "source": [
    "print(tn, fp, fn, tp)"
   ]
  },
  {
   "cell_type": "code",
   "execution_count": 52,
   "metadata": {
    "collapsed": true
   },
   "outputs": [],
   "source": [
    "#print(rfe.support_)\n",
    "#print(rfe.ranking_)"
   ]
  },
  {
   "cell_type": "code",
   "execution_count": 53,
   "metadata": {},
   "outputs": [
    {
     "name": "stderr",
     "output_type": "stream",
     "text": [
      "C:\\Users\\Arun\\Anaconda2\\lib\\site-packages\\statsmodels\\compat\\pandas.py:56: FutureWarning: The pandas.core.datetools module is deprecated and will be removed in a future version. Please use the pandas.tseries module instead.\n",
      "  from pandas.core import datetools\n"
     ]
    },
    {
     "name": "stdout",
     "output_type": "stream",
     "text": [
      "Optimization terminated successfully.\n",
      "         Current function value: 0.654173\n",
      "         Iterations 5\n",
      "                           Logit Regression Results                           \n",
      "==============================================================================\n",
      "Dep. Variable:                      y   No. Observations:                  440\n",
      "Model:                          Logit   Df Residuals:                      410\n",
      "Method:                           MLE   Df Model:                           29\n",
      "Date:                Fri, 02 Feb 2018   Pseudo R-squ.:                 0.05623\n",
      "Time:                        15:23:42   Log-Likelihood:                -287.84\n",
      "converged:                       True   LL-Null:                       -304.98\n",
      "                                        LLR p-value:                    0.2286\n",
      "===================================================================================\n",
      "                      coef    std err          z      P>|z|      [0.025      0.975]\n",
      "-----------------------------------------------------------------------------------\n",
      "JUST_IND            0.0086      0.011      0.792      0.429      -0.013       0.030\n",
      "PAY.LIVING         -0.0067      0.006     -1.186      0.235      -0.018       0.004\n",
      "PAY.PTO            -0.0025      0.008     -0.293      0.769      -0.019       0.014\n",
      "PAY.HEALTH          0.0040      0.008      0.507      0.612      -0.011       0.019\n",
      "PAY.FAIR            0.0059      0.009      0.653      0.514      -0.012       0.024\n",
      "PAY.RETIRE          0.0094      0.005      1.737      0.082      -0.001       0.020\n",
      "PAY.DISC           -0.0098      0.009     -1.062      0.288      -0.028       0.008\n",
      "PAY.CEO            -0.0092      0.005     -1.782      0.075      -0.019       0.001\n",
      "TREAT.SAFE          0.0151      0.010      1.449      0.147      -0.005       0.036\n",
      "TREAT.WLB          -0.0103      0.007     -1.486      0.137      -0.024       0.003\n",
      "TREAT.EDU          -0.0083      0.007     -1.238      0.216      -0.022       0.005\n",
      "TREAT.DISC         -0.0024      0.005     -0.451      0.652      -0.013       0.008\n",
      "TREAT.RESPECT    8.623e-05      0.008      0.011      0.992      -0.016       0.016\n",
      "SUPPLY.ABUSE        0.0044      0.008      0.546      0.585      -0.011       0.020\n",
      "SUPPLY.CONFLICT    -0.0120      0.016     -0.770      0.442      -0.043       0.019\n",
      "COMM.RELS           0.0088      0.009      1.038      0.299      -0.008       0.026\n",
      "COMM.CHARITY       -0.0082      0.005     -1.787      0.074      -0.017       0.001\n",
      "JOBS.US             0.0103      0.007      1.440      0.150      -0.004       0.024\n",
      "PROD.BEN            0.0025      0.005      0.538      0.591      -0.007       0.012\n",
      "PROD.QUAL           0.0039      0.007      0.565      0.572      -0.010       0.017\n",
      "CUST.RELS          -0.0074      0.008     -0.870      0.384      -0.024       0.009\n",
      "CUST.PRIV          -0.0164      0.009     -1.895      0.058      -0.033       0.001\n",
      "LEAD.LAWS           0.0086      0.011      0.776      0.438      -0.013       0.030\n",
      "LEAD.INTEGRITY     -0.0028      0.009     -0.300      0.764      -0.021       0.016\n",
      "LEAD.TAX           -0.0006      0.006     -0.100      0.920      -0.013       0.012\n",
      "LEAD.POLITICS      -0.0006      0.006     -0.106      0.915      -0.012       0.011\n",
      "ENV.POLLUTION       0.0089      0.008      1.176      0.240      -0.006       0.024\n",
      "ENV.MGMT           -0.0012      0.010     -0.120      0.904      -0.021       0.018\n",
      "ENV.EFFICIENT       0.0191      0.011      1.809      0.070      -0.002       0.040\n",
      "INVEST.ACCURATE    -0.0045      0.005     -0.851      0.395      -0.015       0.006\n",
      "===================================================================================\n"
     ]
    }
   ],
   "source": [
    "import statsmodels.api as sm\n",
    "logit_model=sm.Logit(y.astype(float),X.astype(float))\n",
    "result=logit_model.fit()\n",
    "print(result.summary())\n"
   ]
  },
  {
   "cell_type": "code",
   "execution_count": 54,
   "metadata": {},
   "outputs": [
    {
     "data": {
      "text/plain": [
       "RandomForestClassifier(bootstrap=True, class_weight=None, criterion='gini',\n",
       "            max_depth=10, max_features=19, max_leaf_nodes=None,\n",
       "            min_impurity_decrease=0, min_impurity_split=None,\n",
       "            min_samples_leaf=1, min_samples_split=2,\n",
       "            min_weight_fraction_leaf=0, n_estimators=39, n_jobs=-1,\n",
       "            oob_score=True, random_state=0, verbose=0, warm_start=True)"
      ]
     },
     "execution_count": 54,
     "metadata": {},
     "output_type": "execute_result"
    }
   ],
   "source": [
    "from sklearn.ensemble import RandomForestClassifier\n",
    "\n",
    "clf_rf=RandomForestClassifier(criterion='gini',n_jobs=-1,random_state=0,n_estimators=39,\n",
    "                              min_samples_leaf=1,max_features=19\n",
    "                              ,max_depth=10,min_samples_split=2,\n",
    "                             min_weight_fraction_leaf=0,max_leaf_nodes=None,min_impurity_decrease=0,\n",
    "                             oob_score=True,warm_start=True)\n",
    "\n",
    "clf_rf.fit(X_train,y_train)"
   ]
  },
  {
   "cell_type": "code",
   "execution_count": 55,
   "metadata": {},
   "outputs": [
    {
     "name": "stdout",
     "output_type": "stream",
     "text": [
      "(6, 104, 3, 107)\n"
     ]
    }
   ],
   "source": [
    "tn, fp, fn, tp = confusion_matrix(y_test,clf_rf.predict(X_test)).ravel()\n",
    "\n",
    "print(tn, fp, fn, tp)"
   ]
  },
  {
   "cell_type": "code",
   "execution_count": 56,
   "metadata": {},
   "outputs": [
    {
     "data": {
      "text/plain": [
       "GradientBoostingClassifier(criterion='friedman_mse', init=None,\n",
       "              learning_rate=0.4, loss='deviance', max_depth=3,\n",
       "              max_features=None, max_leaf_nodes=None,\n",
       "              min_impurity_decrease=0.0, min_impurity_split=None,\n",
       "              min_samples_leaf=1, min_samples_split=2,\n",
       "              min_weight_fraction_leaf=0.0, n_estimators=71,\n",
       "              presort='auto', random_state=0, subsample=1.0, verbose=0,\n",
       "              warm_start=False)"
      ]
     },
     "execution_count": 56,
     "metadata": {},
     "output_type": "execute_result"
    }
   ],
   "source": [
    "from sklearn.ensemble import GradientBoostingClassifier\n",
    "\n",
    "clf_gb=GradientBoostingClassifier(loss='deviance', learning_rate=0.4, n_estimators=71, subsample=1.0, criterion='friedman_mse', \n",
    "                              min_samples_split=2, min_samples_leaf=1, min_weight_fraction_leaf=0.0, max_depth=3, \n",
    "                              min_impurity_decrease=0.0, min_impurity_split=None, init=None, random_state=0, \n",
    "                              verbose=0, max_leaf_nodes=None, warm_start=False, presort='auto')\n",
    "\n",
    "\n",
    "clf_gb.fit(X_train,y_train)"
   ]
  },
  {
   "cell_type": "code",
   "execution_count": 57,
   "metadata": {},
   "outputs": [
    {
     "name": "stdout",
     "output_type": "stream",
     "text": [
      "(22, 88, 12, 98)\n"
     ]
    }
   ],
   "source": [
    "tn, fp, fn, tp = confusion_matrix(y_test,clf_gb.predict(X_test)).ravel()\n",
    "\n",
    "print(tn, fp, fn, tp)"
   ]
  }
 ],
 "metadata": {
  "kernelspec": {
   "display_name": "Python 2",
   "language": "python",
   "name": "python2"
  },
  "language_info": {
   "codemirror_mode": {
    "name": "ipython",
    "version": 2
   },
   "file_extension": ".py",
   "mimetype": "text/x-python",
   "name": "python",
   "nbconvert_exporter": "python",
   "pygments_lexer": "ipython2",
   "version": "2.7.14"
  }
 },
 "nbformat": 4,
 "nbformat_minor": 2
}
